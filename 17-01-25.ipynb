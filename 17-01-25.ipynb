{
 "cells": [
  {
   "cell_type": "code",
   "execution_count": 1,
   "metadata": {},
   "outputs": [],
   "source": [
    "s=[[4,8,90,12],[56,78,54,20],[67,89,50,49],[77,8822,55],[90,40,70,60]]"
   ]
  },
  {
   "cell_type": "code",
   "execution_count": 2,
   "metadata": {},
   "outputs": [
    {
     "data": {
      "text/plain": [
       "[10, 8, 6, 4, 2, 0, -2, -4, -6, -8]"
      ]
     },
     "execution_count": 2,
     "metadata": {},
     "output_type": "execute_result"
    }
   ],
   "source": [
    "list(range(10,-10,-2))"
   ]
  },
  {
   "cell_type": "code",
   "execution_count": 3,
   "metadata": {},
   "outputs": [
    {
     "data": {
      "text/plain": [
       "range(5, 505, 5)"
      ]
     },
     "execution_count": 3,
     "metadata": {},
     "output_type": "execute_result"
    }
   ],
   "source": [
    "range(5,505,5)"
   ]
  },
  {
   "cell_type": "code",
   "execution_count": 4,
   "metadata": {},
   "outputs": [
    {
     "name": "stdout",
     "output_type": "stream",
     "text": [
      "Data 5\n",
      "Data 10\n",
      "Data 15\n",
      "Data 20\n",
      "Data 25\n",
      "Data 30\n",
      "Data 35\n",
      "Data 40\n",
      "Data 45\n",
      "Data 50\n",
      "Data 55\n",
      "Data 60\n",
      "Data 65\n",
      "Data 70\n",
      "Data 75\n",
      "Data 80\n",
      "Data 85\n",
      "Data 90\n",
      "Data 95\n",
      "Data 100\n",
      "Data 105\n",
      "Data 110\n",
      "Data 115\n",
      "Data 120\n",
      "Data 125\n",
      "Data 130\n",
      "Data 135\n",
      "Data 140\n",
      "Data 145\n",
      "Data 150\n",
      "Data 155\n",
      "Data 160\n",
      "Data 165\n",
      "Data 170\n",
      "Data 175\n",
      "Data 180\n",
      "Data 185\n",
      "Data 190\n",
      "Data 195\n",
      "Data 200\n",
      "Data 205\n",
      "Data 210\n",
      "Data 215\n",
      "Data 220\n",
      "Data 225\n",
      "Data 230\n",
      "Data 235\n",
      "Data 240\n",
      "Data 245\n",
      "Data 250\n",
      "Data 255\n",
      "Data 260\n",
      "Data 265\n",
      "Data 270\n",
      "Data 275\n",
      "Data 280\n",
      "Data 285\n",
      "Data 290\n",
      "Data 295\n",
      "Data 300\n",
      "Data 305\n",
      "Data 310\n",
      "Data 315\n",
      "Data 320\n",
      "Data 325\n",
      "Data 330\n",
      "Data 335\n",
      "Data 340\n",
      "Data 345\n",
      "Data 350\n",
      "Data 355\n",
      "Data 360\n",
      "Data 365\n",
      "Data 370\n",
      "Data 375\n",
      "Data 380\n",
      "Data 385\n",
      "Data 390\n",
      "Data 395\n",
      "Data 400\n",
      "Data 405\n",
      "Data 410\n",
      "Data 415\n",
      "Data 420\n",
      "Data 425\n",
      "Data 430\n",
      "Data 435\n",
      "Data 440\n",
      "Data 445\n",
      "Data 450\n",
      "Data 455\n",
      "Data 460\n",
      "Data 465\n",
      "Data 470\n",
      "Data 475\n",
      "Data 480\n",
      "Data 485\n",
      "Data 490\n",
      "Data 495\n",
      "Data 500\n"
     ]
    }
   ],
   "source": [
    "for i in range(5,505,5):\n",
    "    print('Data',i)"
   ]
  },
  {
   "cell_type": "code",
   "execution_count": 5,
   "metadata": {},
   "outputs": [],
   "source": [
    "j=[5,87,23,46,62,84,45,77,33,80]"
   ]
  },
  {
   "cell_type": "code",
   "execution_count": 6,
   "metadata": {},
   "outputs": [
    {
     "data": {
      "text/plain": [
       "[5, 87, 23, 46, 62, 84, 45, 77, 33, 80]"
      ]
     },
     "execution_count": 6,
     "metadata": {},
     "output_type": "execute_result"
    }
   ],
   "source": [
    "j"
   ]
  },
  {
   "cell_type": "code",
   "execution_count": 7,
   "metadata": {},
   "outputs": [
    {
     "data": {
      "text/plain": [
       "[5, 87, 23, 46, 62, 84, 45, 77, 33, 80]"
      ]
     },
     "execution_count": 7,
     "metadata": {},
     "output_type": "execute_result"
    }
   ],
   "source": [
    "j"
   ]
  },
  {
   "cell_type": "code",
   "execution_count": 13,
   "metadata": {},
   "outputs": [],
   "source": [
    "y=[]\n",
    "x=[]\n",
    "for i in range(len(j)):\n",
    "    if i%2==0:\n",
    "        x.append(j[i])\n",
    "    else:\n",
    "        y.append(j[i])"
   ]
  },
  {
   "cell_type": "code",
   "execution_count": 17,
   "metadata": {},
   "outputs": [
    {
     "name": "stdout",
     "output_type": "stream",
     "text": [
      "5\n",
      "87\n",
      "23\n",
      "46\n",
      "62\n",
      "84\n",
      "45\n",
      "77\n",
      "33\n",
      "80\n"
     ]
    }
   ],
   "source": [
    "for i in j: \n",
    "    print(i)"
   ]
  },
  {
   "cell_type": "code",
   "execution_count": null,
   "metadata": {},
   "outputs": [],
   "source": []
  }
 ],
 "metadata": {
  "kernelspec": {
   "display_name": "Python 3",
   "language": "python",
   "name": "python3"
  },
  "language_info": {
   "codemirror_mode": {
    "name": "ipython",
    "version": 3
   },
   "file_extension": ".py",
   "mimetype": "text/x-python",
   "name": "python",
   "nbconvert_exporter": "python",
   "pygments_lexer": "ipython3",
   "version": "3.8.5"
  }
 },
 "nbformat": 4,
 "nbformat_minor": 4
}
