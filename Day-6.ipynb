{
 "cells": [
  {
   "cell_type": "code",
   "execution_count": 5,
   "id": "51dbcf37-f76b-4a3f-b10e-90f344a76bab",
   "metadata": {},
   "outputs": [
    {
     "name": "stdout",
     "output_type": "stream",
     "text": [
      "    Name  Age Department  Salary\n",
      "0   John   28         HR   45000\n",
      "1  Alice   34         IT   60000\n",
      "2    Bob   23  Marketing   35000\n",
      "3  Diana   29    Finance   50000\n"
     ]
    }
   ],
   "source": [
    "#1)1. Create a DataFrame from the following data:\n",
    "#  | Name     | Age | Department   | Salary  |\n",
    "# |----------|-----|--------------|---------|\n",
    "#  | John     | 28  | HR           | 45000   |\n",
    "#  | Alice    | 34  | IT           | 60000   |\n",
    "#  | Bob      | 23  | Marketing    | 35000   |\n",
    "#  | Diana    | 29  | Finance      | 50000   |\n",
    "\n",
    "import pandas as pd\n",
    "data = {\n",
    "    'Name': ['John', 'Alice', 'Bob', 'Diana'],\n",
    "    'Age': [28, 34, 23, 29],\n",
    "    'Department': ['HR', 'IT', 'Marketing', 'Finance'],\n",
    "    'Salary': [45000, 60000, 35000, 50000]\n",
    "}\n",
    "df = pd.DataFrame(data)\n",
    "print(df)\n"
   ]
  },
  {
   "cell_type": "code",
   "execution_count": 7,
   "id": "ab0ff7c3-0834-484e-9833-8d517b9ee5bd",
   "metadata": {},
   "outputs": [
    {
     "name": "stdout",
     "output_type": "stream",
     "text": [
      "First 2 rows of the DataFrame:\n",
      "    Name  Age Department  Salary\n",
      "0   John   28         HR   45000\n",
      "1  Alice   34         IT   60000\n",
      "\n",
      "DataFrame with Bonus column:\n",
      "    Name  Age Department  Salary   Bonus\n",
      "0   John   28         HR   45000  4500.0\n",
      "1  Alice   34         IT   60000  6000.0\n",
      "2    Bob   23  Marketing   35000  3500.0\n",
      "3  Diana   29    Finance   50000  5000.0\n",
      "\n",
      "The average salary of employees is: 47500.00\n",
      "\n",
      "Employees older than 25:\n",
      "    Name  Age Department  Salary   Bonus\n",
      "0   John   28         HR   45000  4500.0\n",
      "1  Alice   34         IT   60000  6000.0\n",
      "3  Diana   29    Finance   50000  5000.0\n"
     ]
    }
   ],
   "source": [
    "#2) Display the first 2 rows of the DataFrame.\n",
    "#   - Add a new column named `Bonus` where the bonus is 10% of the salary.\n",
    "#   - Calculate the average salary of employees in the DataFrame.\n",
    "#   - Filter and display employees who are older than 25.\n",
    "import pandas as pd\n",
    "data = {\n",
    "    'Name': ['John', 'Alice', 'Bob', 'Diana'],\n",
    "    'Age': [28, 34, 23, 29],\n",
    "    'Department': ['HR', 'IT', 'Marketing', 'Finance'],\n",
    "    'Salary': [45000, 60000, 35000, 50000]\n",
    "}\n",
    "df = pd.DataFrame(data)\n",
    "print(\"First 2 rows of the DataFrame:\")\n",
    "print(df.head(2))\n",
    "print()\n",
    "df['Bonus'] = df['Salary'] * 0.10\n",
    "print(\"DataFrame with Bonus column:\")\n",
    "print(df)\n",
    "print()\n",
    "average_salary = df['Salary'].mean()\n",
    "print(f\"The average salary of employees is: {average_salary:.2f}\")\n",
    "print()\n",
    "filtered_df = df[df['Age'] > 25]\n",
    "print(\"Employees older than 25:\")\n",
    "print(filtered_df)\n"
   ]
  },
  {
   "cell_type": "code",
   "execution_count": null,
   "id": "9a4a5073-9486-4ed6-a7fe-e7fcc5436b43",
   "metadata": {},
   "outputs": [],
   "source": []
  }
 ],
 "metadata": {
  "kernelspec": {
   "display_name": "Python [conda env:base] *",
   "language": "python",
   "name": "conda-base-py"
  },
  "language_info": {
   "codemirror_mode": {
    "name": "ipython",
    "version": 3
   },
   "file_extension": ".py",
   "mimetype": "text/x-python",
   "name": "python",
   "nbconvert_exporter": "python",
   "pygments_lexer": "ipython3",
   "version": "3.12.7"
  }
 },
 "nbformat": 4,
 "nbformat_minor": 5
}
