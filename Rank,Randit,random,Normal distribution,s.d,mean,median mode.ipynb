{
 "cells": [
  {
   "cell_type": "code",
   "execution_count": 1,
   "metadata": {},
   "outputs": [],
   "source": [
    "import numpy as np"
   ]
  },
  {
   "cell_type": "code",
   "execution_count": 2,
   "metadata": {},
   "outputs": [
    {
     "data": {
      "text/plain": [
       "array([10, 40, 50, 30, 70])"
      ]
     },
     "execution_count": 2,
     "metadata": {},
     "output_type": "execute_result"
    }
   ],
   "source": [
    "d=np.array([10,40,50,30,70])\n",
    "d"
   ]
  },
  {
   "cell_type": "code",
   "execution_count": 3,
   "metadata": {},
   "outputs": [
    {
     "data": {
      "text/plain": [
       "40.0"
      ]
     },
     "execution_count": 3,
     "metadata": {},
     "output_type": "execute_result"
    }
   ],
   "source": [
    "np.mean(d)"
   ]
  },
  {
   "cell_type": "code",
   "execution_count": 4,
   "metadata": {},
   "outputs": [
    {
     "data": {
      "text/plain": [
       "40.0"
      ]
     },
     "execution_count": 4,
     "metadata": {},
     "output_type": "execute_result"
    }
   ],
   "source": [
    "np.median(d)"
   ]
  },
  {
   "cell_type": "code",
   "execution_count": 5,
   "metadata": {},
   "outputs": [
    {
     "data": {
      "text/plain": [
       "400.0"
      ]
     },
     "execution_count": 5,
     "metadata": {},
     "output_type": "execute_result"
    }
   ],
   "source": [
    "np.var(d)"
   ]
  },
  {
   "cell_type": "code",
   "execution_count": 6,
   "metadata": {},
   "outputs": [
    {
     "data": {
      "text/plain": [
       "20.0"
      ]
     },
     "execution_count": 6,
     "metadata": {},
     "output_type": "execute_result"
    }
   ],
   "source": [
    "np.std(d)"
   ]
  },
  {
   "cell_type": "code",
   "execution_count": 7,
   "metadata": {},
   "outputs": [
    {
     "data": {
      "text/plain": [
       "70"
      ]
     },
     "execution_count": 7,
     "metadata": {},
     "output_type": "execute_result"
    }
   ],
   "source": [
    "np.max(d)"
   ]
  },
  {
   "cell_type": "code",
   "execution_count": 8,
   "metadata": {},
   "outputs": [
    {
     "data": {
      "text/plain": [
       "10"
      ]
     },
     "execution_count": 8,
     "metadata": {},
     "output_type": "execute_result"
    }
   ],
   "source": [
    "np.min(d)"
   ]
  },
  {
   "cell_type": "code",
   "execution_count": 9,
   "metadata": {},
   "outputs": [
    {
     "data": {
      "text/plain": [
       "30.0"
      ]
     },
     "execution_count": 9,
     "metadata": {},
     "output_type": "execute_result"
    }
   ],
   "source": [
    "np.quantile(d,0.25)"
   ]
  },
  {
   "cell_type": "code",
   "execution_count": 11,
   "metadata": {},
   "outputs": [
    {
     "data": {
      "text/plain": [
       "array([[0.63594174, 0.02229819, 0.56249136, 0.42698838, 0.70251453],\n",
       "       [0.2217897 , 0.86351659, 0.02988997, 0.17818153, 0.8692328 ],\n",
       "       [0.27372993, 0.88371419, 0.56199186, 0.97033566, 0.4410613 ],\n",
       "       [0.30485547, 0.5042915 , 0.27830456, 0.17803805, 0.96100433],\n",
       "       [0.26558248, 0.25486944, 0.01407395, 0.8009936 , 0.40744768],\n",
       "       [0.2933841 , 0.78621081, 0.01532261, 0.0632855 , 0.52222884],\n",
       "       [0.31891322, 0.71633951, 0.21097571, 0.01076948, 0.85514686],\n",
       "       [0.60020417, 0.70829165, 0.96556575, 0.49873106, 0.94763822],\n",
       "       [0.38346664, 0.03993535, 0.16379035, 0.05380117, 0.87616807],\n",
       "       [0.30029316, 0.32551399, 0.98795196, 0.59379844, 0.50929094]])"
      ]
     },
     "execution_count": 11,
     "metadata": {},
     "output_type": "execute_result"
    }
   ],
   "source": [
    "r=np.random.rand(10,5)\n",
    "r"
   ]
  },
  {
   "cell_type": "code",
   "execution_count": 12,
   "metadata": {},
   "outputs": [
    {
     "data": {
      "text/plain": [
       "0.1319678082411554"
      ]
     },
     "execution_count": 12,
     "metadata": {},
     "output_type": "execute_result"
    }
   ],
   "source": [
    "r=np.random.rand()\n",
    "r"
   ]
  },
  {
   "cell_type": "code",
   "execution_count": 13,
   "metadata": {},
   "outputs": [
    {
     "data": {
      "text/plain": [
       "array([0.56262915, 0.0609595 , 0.33984725, 0.08596427, 0.22093844,\n",
       "       0.24391356, 0.38084195, 0.20539096, 0.26587684, 0.18170126,\n",
       "       0.62318713, 0.27364215, 0.15912373, 0.8571289 , 0.23974515,\n",
       "       0.48925127, 0.30723624, 0.49333334, 0.63653199, 0.89769337,\n",
       "       0.56445643, 0.1422047 , 0.98706415, 0.5562935 , 0.72011189,\n",
       "       0.71687038, 0.84304786, 0.37410104, 0.97034591, 0.10999357,\n",
       "       0.55111779, 0.66466692, 0.88131516, 0.95193863, 0.93487793,\n",
       "       0.50402003, 0.78545115, 0.42511683, 0.61997381, 0.97327381,\n",
       "       0.73867985, 0.60333965, 0.41284202, 0.66464227, 0.71961151,\n",
       "       0.03749407, 0.1084895 , 0.98517426, 0.23049654, 0.49686154,\n",
       "       0.59283056, 0.37820296, 0.74068719, 0.86744657, 0.04684441,\n",
       "       0.60106029, 0.53637086, 0.88483492, 0.49443934, 0.41003251,\n",
       "       0.27559289, 0.11246668, 0.2993935 , 0.21499968, 0.18987367,\n",
       "       0.52163394, 0.4864013 , 0.71408301, 0.38990761, 0.48038377,\n",
       "       0.31923767, 0.01215578, 0.21062473, 0.36740675, 0.30632124,\n",
       "       0.64648185, 0.87647616, 0.48076917, 0.7939085 , 0.17518534,\n",
       "       0.07629555, 0.4504104 , 0.92925523, 0.16302765, 0.53546368,\n",
       "       0.08781389, 0.88545386, 0.55914696, 0.3121938 , 0.41119456,\n",
       "       0.86258321, 0.38605484, 0.05028636, 0.36960322, 0.56820243,\n",
       "       0.27676584, 0.08460674, 0.64011684, 0.41059541, 0.41836977])"
      ]
     },
     "execution_count": 13,
     "metadata": {},
     "output_type": "execute_result"
    }
   ],
   "source": [
    "r=np.random.rand(100)\n",
    "r"
   ]
  },
  {
   "cell_type": "code",
   "execution_count": 14,
   "metadata": {},
   "outputs": [
    {
     "data": {
      "text/plain": [
       "array([[[0.24317985, 0.39681073],\n",
       "        [0.18553914, 0.78829482],\n",
       "        [0.67919152, 0.08140629]],\n",
       "\n",
       "       [[0.49001052, 0.35778814],\n",
       "        [0.01036931, 0.80588654],\n",
       "        [0.35973183, 0.02773978]],\n",
       "\n",
       "       [[0.70650304, 0.24615809],\n",
       "        [0.25635046, 0.11654433],\n",
       "        [0.70894462, 0.84215047]],\n",
       "\n",
       "       [[0.57821418, 0.20720562],\n",
       "        [0.32151674, 0.82569722],\n",
       "        [0.05608307, 0.15232881]],\n",
       "\n",
       "       [[0.57491239, 0.0139629 ],\n",
       "        [0.30644627, 0.96162406],\n",
       "        [0.38736021, 0.24377022]]])"
      ]
     },
     "execution_count": 14,
     "metadata": {},
     "output_type": "execute_result"
    }
   ],
   "source": [
    "r=np.random.rand(5,3,2)\n",
    "r"
   ]
  },
  {
   "cell_type": "code",
   "execution_count": 15,
   "metadata": {},
   "outputs": [
    {
     "data": {
      "text/plain": [
       "array([[-0.46015416, -0.53255931, -1.47708523, -1.1846657 ],\n",
       "       [-0.30401694,  0.2075135 , -0.2085874 ,  2.56186357],\n",
       "       [-1.46750759, -0.81005068, -0.41583458,  1.56414779],\n",
       "       [-1.17606068,  0.49464381, -0.40170097,  1.03170534],\n",
       "       [-1.30892921,  0.11013359, -1.07100828, -0.34556578],\n",
       "       [-2.07544765,  0.45468253, -0.19447968,  0.16469183],\n",
       "       [-2.6735259 , -2.36567737,  0.17126669, -0.62287681],\n",
       "       [-0.57137677, -1.11453904,  1.27451294, -0.80861397],\n",
       "       [ 1.07234529,  0.16226096, -0.61072474, -2.19679053],\n",
       "       [ 0.39906214, -0.66019501, -1.4773126 , -0.43588788]])"
      ]
     },
     "execution_count": 15,
     "metadata": {},
     "output_type": "execute_result"
    }
   ],
   "source": [
    "r=np.random.randn(10,4)\n",
    "r"
   ]
  },
  {
   "cell_type": "code",
   "execution_count": 16,
   "metadata": {},
   "outputs": [
    {
     "data": {
      "text/plain": [
       "array([[13.50558299, 10.15252336, 13.30737093, 14.85772975],\n",
       "       [12.48363049,  6.93235642, 11.46924257,  7.13479273],\n",
       "       [10.35153187,  9.49353735,  9.25499464, 10.17475178],\n",
       "       [ 8.38860668,  6.95827447,  9.60830267, 10.99997588],\n",
       "       [ 8.56324622, 13.7145015 ,  6.04191234,  8.07984775],\n",
       "       [ 9.97497203, 11.93394828,  6.51739427, 10.99978964],\n",
       "       [ 6.14425122, 11.33984322, 10.21700167,  6.32771621]])"
      ]
     },
     "execution_count": 16,
     "metadata": {},
     "output_type": "execute_result"
    }
   ],
   "source": [
    "np.random.normal(10,2,(7,4))"
   ]
  },
  {
   "cell_type": "code",
   "execution_count": 19,
   "metadata": {},
   "outputs": [
    {
     "data": {
      "text/plain": [
       "array([57, 55, 84, 80, 84, 44, 75, 73, 85, 36, 84, 62, 72, 54, 60, 82, 48,\n",
       "       47, 79, 45])"
      ]
     },
     "execution_count": 19,
     "metadata": {},
     "output_type": "execute_result"
    }
   ],
   "source": [
    "np.random.randint(35,86,20)"
   ]
  },
  {
   "cell_type": "code",
   "execution_count": 22,
   "metadata": {},
   "outputs": [
    {
     "data": {
      "text/plain": [
       "array([81, 80, 64, 59, 43, 55, 84, 36, 81, 74, 55, 61, 49, 84, 35, 53, 41,\n",
       "       54, 37, 85, 45, 38, 48, 58, 65, 77, 65, 82, 44, 62, 48, 78, 47, 68,\n",
       "       46, 74, 47, 52, 41, 83, 81, 41, 75, 83, 71, 40, 50, 48, 61, 35, 43,\n",
       "       54, 68, 72, 72, 51, 79, 50, 82, 36, 75, 81, 44, 52, 50, 75, 45, 48,\n",
       "       81, 66, 70, 85, 53, 69, 67, 59, 61, 61, 69, 58, 43, 57, 54, 58, 36,\n",
       "       83, 85, 38, 57, 61, 53, 82, 55, 75, 63, 70, 40, 53, 45, 52, 65, 38,\n",
       "       70, 78, 39, 50, 36, 58, 52, 45, 66, 55, 83, 55, 40, 62, 61, 84, 47,\n",
       "       63, 78, 48, 68, 66, 48, 42, 57, 36, 77, 45, 66, 45, 60, 74, 54, 42,\n",
       "       85, 57, 57, 45, 80, 46, 43, 58, 51, 72, 57, 82, 70, 38, 72, 37, 66,\n",
       "       68, 69, 68, 55, 42, 36, 68, 41, 45, 80, 69, 71, 74, 38, 44, 51, 66,\n",
       "       66, 58, 46, 57, 41, 36, 83, 38, 45, 84, 72, 58, 48, 82, 48, 51, 79,\n",
       "       81, 68, 84, 50, 43, 69, 66, 81, 66, 62, 50, 45, 42])"
      ]
     },
     "execution_count": 22,
     "metadata": {},
     "output_type": "execute_result"
    }
   ],
   "source": [
    "np.random.randint(35,86,200)"
   ]
  },
  {
   "cell_type": "code",
   "execution_count": 23,
   "metadata": {},
   "outputs": [
    {
     "data": {
      "text/plain": [
       "array([73, 58, 79, 68, 59])"
      ]
     },
     "execution_count": 23,
     "metadata": {},
     "output_type": "execute_result"
    }
   ],
   "source": [
    "np.random.randint(35,86,5)"
   ]
  },
  {
   "cell_type": "code",
   "execution_count": null,
   "metadata": {},
   "outputs": [],
   "source": []
  }
 ],
 "metadata": {
  "kernelspec": {
   "display_name": "Python 3",
   "language": "python",
   "name": "python3"
  },
  "language_info": {
   "codemirror_mode": {
    "name": "ipython",
    "version": 3
   },
   "file_extension": ".py",
   "mimetype": "text/x-python",
   "name": "python",
   "nbconvert_exporter": "python",
   "pygments_lexer": "ipython3",
   "version": "3.8.5"
  }
 },
 "nbformat": 4,
 "nbformat_minor": 4
}
