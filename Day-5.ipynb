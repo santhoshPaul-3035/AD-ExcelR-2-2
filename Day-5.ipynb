{
 "cells": [
  {
   "cell_type": "code",
   "execution_count": 3,
   "id": "d9bafffe-c566-43a4-b519-396c3c9d4c72",
   "metadata": {},
   "outputs": [
    {
     "name": "stdin",
     "output_type": "stream",
     "text": [
      "Enter a positive integer n:  10\n"
     ]
    },
    {
     "name": "stdout",
     "output_type": "stream",
     "text": [
      "Numbers from 1 to 10 are:\n",
      "1\n",
      "2\n",
      "3\n",
      "4\n",
      "5\n",
      "6\n",
      "7\n",
      "8\n",
      "9\n",
      "10\n",
      "\n",
      "The sum of all numbers from 1 to 10 is: 55\n"
     ]
    }
   ],
   "source": [
    "#1)Ask the user to enter a positive integer n\n",
    "n = int(input(\"Enter a positive integer n: \"))\n",
    "\n",
    "#2)Use a for loop to print all numbers from 1 to n on separate lines\n",
    "print(\"Numbers from 1 to\", n, \"are:\")\n",
    "for i in range(1, n + 1):\n",
    "    print(i)\n",
    "\n",
    "#3)Use a while loop to calculate the sum of all numbers from 1 to n\n",
    "sum_of_numbers = 0\n",
    "i = 1\n",
    "while i <= n:\n",
    "    sum_of_numbers += i\n",
    "    i += 1\n",
    "print(\"\\nThe sum of all numbers from 1 to\", n, \"is:\", sum_of_numbers)\n"
   ]
  },
  {
   "cell_type": "code",
   "execution_count": null,
   "id": "757e7bc4-00e5-4c14-a94d-8747ad6a1c46",
   "metadata": {},
   "outputs": [],
   "source": []
  }
 ],
 "metadata": {
  "kernelspec": {
   "display_name": "Python [conda env:base] *",
   "language": "python",
   "name": "conda-base-py"
  },
  "language_info": {
   "codemirror_mode": {
    "name": "ipython",
    "version": 3
   },
   "file_extension": ".py",
   "mimetype": "text/x-python",
   "name": "python",
   "nbconvert_exporter": "python",
   "pygments_lexer": "ipython3",
   "version": "3.12.7"
  }
 },
 "nbformat": 4,
 "nbformat_minor": 5
}
