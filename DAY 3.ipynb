{
 "cells": [
  {
   "cell_type": "code",
   "execution_count": 1,
   "metadata": {},
   "outputs": [
    {
     "name": "stdout",
     "output_type": "stream",
     "text": [
      "Enter marks for Subject 1: 98\n",
      "Enter marks for Subject 2: 76\n",
      "Enter marks for Subject 3: 41\n",
      "Grade: C\n"
     ]
    }
   ],
   "source": [
    "\n",
    "# Day 3\n",
    "a = float(input(\"Enter marks for Subject 1: \"))\n",
    "b = float(input(\"Enter marks for Subject 2: \"))\n",
    "c = float(input(\"Enter marks for Subject 3: \"))\n",
    "\n",
    "avg = (a + b + c) / 3\n",
    "\n",
    "if avg >= 90:\n",
    "    result = \"A\"\n",
    "elif 80 <= avg < 90:\n",
    "    result = \"B\"\n",
    "elif 70 <= avg < 80:\n",
    "    result = \"C\"\n",
    "else:\n",
    "    result = \"Fail\"\n",
    "\n",
    "print(f\"Grade: {result}\")"
   ]
  },
  {
   "cell_type": "code",
   "execution_count": null,
   "metadata": {},
   "outputs": [],
   "source": []
  }
 ],
 "metadata": {
  "kernelspec": {
   "display_name": "Python 3",
   "language": "python",
   "name": "python3"
  },
  "language_info": {
   "codemirror_mode": {
    "name": "ipython",
    "version": 3
   },
   "file_extension": ".py",
   "mimetype": "text/x-python",
   "name": "python",
   "nbconvert_exporter": "python",
   "pygments_lexer": "ipython3",
   "version": "3.8.5"
  }
 },
 "nbformat": 4,
 "nbformat_minor": 4
}
